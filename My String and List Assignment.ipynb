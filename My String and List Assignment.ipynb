{
 "cells": [
  {
   "cell_type": "code",
   "execution_count": 1,
   "id": "f22f6715",
   "metadata": {},
   "outputs": [
    {
     "name": "stdout",
     "output_type": "stream",
     "text": [
      "14\n",
      "24\n"
     ]
    }
   ],
   "source": [
    "1a\n",
    "\n",
    "x = 16 - (2 * 5) // 3 + 1\n",
    "x = 16 - 10 // 3 + 1\n",
    "total = 16 - 3 + 1\n",
    "y = 2 ** 3 * 3\n",
    "total = 8 * 3\n",
    "print(x)\n",
    "print(y)"
   ]
  },
  {
   "cell_type": "code",
   "execution_count": null,
   "id": "33689f58",
   "metadata": {},
   "outputs": [],
   "source": [
    "1b\n",
    "\n",
    "x = (forced parenthesis on multiplication- division- subtraction- addition)\n",
    "y = exponent - multiplication\n"
   ]
  },
  {
   "cell_type": "code",
   "execution_count": 2,
   "id": "a0fd7a3d",
   "metadata": {},
   "outputs": [
    {
     "name": "stdout",
     "output_type": "stream",
     "text": [
      "4\n",
      "-6\n"
     ]
    }
   ],
   "source": [
    "#Add parenthesis to the expression 6 * 1 - 2 to change the resulting value from 4 to -6.\n",
    "\n",
    "a = 6 * 1 - 2\n",
    "total = 6 -2 \n",
    "b = 6 * (-1)\n",
    "print(a)\n",
    "print(b)"
   ]
  },
  {
   "cell_type": "code",
   "execution_count": 3,
   "id": "a000d5ca",
   "metadata": {},
   "outputs": [
    {
     "name": "stdout",
     "output_type": "stream",
     "text": [
      "153.86\n"
     ]
    }
   ],
   "source": [
    "#Area of a circle = (Pi)r**2 \n",
    "A = 3.14\n",
    "r = 7**2\n",
    "Area_circle = A * (7**2)\n",
    "total = A * 49\n",
    "print(total)"
   ]
  },
  {
   "cell_type": "code",
   "execution_count": 1,
   "id": "6cb6efdd",
   "metadata": {},
   "outputs": [
    {
     "name": "stdout",
     "output_type": "stream",
     "text": [
      "False\n"
     ]
    }
   ],
   "source": [
    "## 4. \n",
    "#Write an expression check if a number 3, stored in a variable x, is between 0 and 5.\n",
    "\n",
    "x = 3\n",
    "is_between = \"0 and 5\"\n",
    "print([x] in [\"in_between\"])\n"
   ]
  },
  {
   "cell_type": "code",
   "execution_count": 18,
   "id": "e9c734e2",
   "metadata": {},
   "outputs": [
    {
     "name": "stdout",
     "output_type": "stream",
     "text": [
      "True\n",
      "True\n",
      "False\n"
     ]
    }
   ],
   "source": [
    "## 5. \n",
    "\n",
    "#Variables x and y refer to Boolean values.\n",
    "\n",
    "x = 9 \n",
    "y = 12\n",
    "number = x > 8 and x < y\n",
    "print(number)\n",
    "\n",
    "number = x == 9 or 10 > y\n",
    "print(number)\n",
    "\n",
    "number = not (x < y)\n",
    "print(number)\n"
   ]
  },
  {
   "cell_type": "code",
   "execution_count": 20,
   "id": "01b91d58",
   "metadata": {},
   "outputs": [
    {
     "name": "stdout",
     "output_type": "stream",
     "text": [
      "25.22\n"
     ]
    }
   ],
   "source": [
    "## 6.\n",
    "#Create a list that contains floats and integers, and write a code to sum all the items in the list.\n",
    "\n",
    "list_f = 13.22\n",
    "list_i = 12\n",
    "total = list_f + list_i\n",
    "print(total)"
   ]
  },
  {
   "cell_type": "code",
   "execution_count": 39,
   "id": "fd391b60",
   "metadata": {},
   "outputs": [
    {
     "name": "stdout",
     "output_type": "stream",
     "text": [
      "number in ascending order: [1, 3, 3, 5, 5, 7, 9]\n"
     ]
    }
   ],
   "source": [
    "## 7.\n",
    "#list1 = [3, 5, 1, 3, 9, 5, 7] \n",
    "\n",
    "#Write a code to sort this list in increasing order.\n",
    "\n",
    "list1 = [3, 5, 1, 3, 9, 5, 7]\n",
    "list1.sort()\n",
    "print(\"number in ascending order:\", list1)\n"
   ]
  },
  {
   "cell_type": "code",
   "execution_count": null,
   "id": "dad665ca",
   "metadata": {},
   "outputs": [],
   "source": [
    "## 8.\n",
    "\n",
    "list2 = [1, 2, 5, 7, 9, 0, 3, 6, 7, 1, 3, 5, 6, 8, ,2, 9, 0, 5, 2, 1, 2, 4, 2]\n",
    "\n",
    "Write a code to count how many times 2 occured in the list"
   ]
  },
  {
   "cell_type": "code",
   "execution_count": null,
   "id": "0b6bded9",
   "metadata": {},
   "outputs": [],
   "source": [
    "## 9.\n",
    "list3 = [\"Tosin\", 10.4, 9, (23, \"Faith\", [10, [\"Chinelo\", \"Sandra\"], 22]), 100, 85.5, 12.4, \"Promise\", (\"11\", 90)]\n",
    "\n",
    "Using string formatting, write a code that slices out \"Chinelo\", \"Faith\", slices out the number 100, 85.5, and 90.\n",
    "\n",
    "Your code should print out: Chinelo couldn't score 100%, she got 90%, However, Faith is a close second with 85.5%.\n",
    "\n",
    "NB: Make sure your output contains % sign"
   ]
  },
  {
   "cell_type": "code",
   "execution_count": 157,
   "id": "a7043147",
   "metadata": {},
   "outputs": [
    {
     "ename": "SyntaxError",
     "evalue": "closing parenthesis ')' does not match opening parenthesis '[' (<ipython-input-157-3252ac9d7255>, line 11)",
     "output_type": "error",
     "traceback": [
      "\u001b[1;36m  File \u001b[1;32m\"<ipython-input-157-3252ac9d7255>\"\u001b[1;36m, line \u001b[1;32m11\u001b[0m\n\u001b[1;33m    list3 = [\"Tosin\", 10.4, 9, (23, \"Faith\", [10, [\"Chinelo\", \"Sandra\"], 22)], 100, 85.5, 12.4, \"Promise\", (\"11\", 90)]\u001b[0m\n\u001b[1;37m                                                                           ^\u001b[0m\n\u001b[1;31mSyntaxError\u001b[0m\u001b[1;31m:\u001b[0m closing parenthesis ')' does not match opening parenthesis '['\n"
     ]
    }
   ],
   "source": [
    "## 9.\n",
    "#list3 = [\"Tosin\", 10.4, 9, (23, \"Faith\", [10, [\"Chinelo\", \"Sandra\"], 22)], 100, 85.5, 12.4, \"Promise\", (\"11\", 90)]\n",
    "\n",
    "#Using string formatting, write a code that slices out \"Chinelo\", \"Faith\", slices out the number 100, 85.5, and 90.\n",
    "\n",
    "#Your code should print out: Chinelo couldn't score 100%, she got 90%, However, Faith is a close second with 85.5%.\n",
    "\n",
    "#NB: Make sure your output contains % sign\n",
    "\n",
    "\n",
    "list3 = [\"Tosin\", 10.4, 9, (23, \"Faith\", [10, [\"Chinelo\", \"Sandra\"], 22)], 100, 85.5, 12.4, \"Promise\", (\"11\", 90)]\n",
    "a_list = \"{}, couldn't score {}%, she got {}%, However, {} is a close second with {}%.\"\n",
    "print(a_list.format([2][9][3][13][2][4][2][10]))                                                                                                                               \n",
    "                                                                                                                                \n",
    "                                                                                                                                "
   ]
  },
  {
   "cell_type": "code",
   "execution_count": 75,
   "id": "c4dfe6b4",
   "metadata": {},
   "outputs": [
    {
     "ename": "SyntaxError",
     "evalue": "closing parenthesis ')' does not match opening parenthesis '[' (<ipython-input-75-ba519cb29157>, line 1)",
     "output_type": "error",
     "traceback": [
      "\u001b[1;36m  File \u001b[1;32m\"<ipython-input-75-ba519cb29157>\"\u001b[1;36m, line \u001b[1;32m1\u001b[0m\n\u001b[1;33m    list3 = [\"Tosin\", 10.4, 9, (23, \"Faith\", [10, [\"Chinelo\", \"Sandra\"], 22)], 100, 85.5, 12.4, \"Promise\", (\"11\", 90)]\u001b[0m\n\u001b[1;37m                                                                           ^\u001b[0m\n\u001b[1;31mSyntaxError\u001b[0m\u001b[1;31m:\u001b[0m closing parenthesis ')' does not match opening parenthesis '['\n"
     ]
    }
   ],
   "source": [
    "list3 = [\"Tosin\", 10.4, 9, (23, \"Faith\", [10, [\"Chinelo\", \"Sandra\"], 22)], 100, 85.5, 12.4, \"Promise\", (\"11\", 90)]\n",
    "class_score = (list3[0])\n",
    "                            \n",
    "                            "
   ]
  },
  {
   "cell_type": "code",
   "execution_count": 23,
   "id": "ca8ed606",
   "metadata": {
    "scrolled": true
   },
   "outputs": [
    {
     "name": "stdout",
     "output_type": "stream",
     "text": [
      "[1, 3, 4, 5, 6, 10]\n"
     ]
    }
   ],
   "source": [
    "## 13.\n",
    "#sets = {3, 1, 10, 4, 5, 6}\n",
    "\n",
    "#Write a code that sorts this set in asceding order. Print the output, explain the out you got and why\n",
    "\n",
    "#This variable is a set -{}, which makes it immutable. I switched to a set by changing the {} to [] to make it mutable\n",
    "\n",
    "sets = [3, 1, 10, 4, 5, 6]\n",
    "sets.sort()\n",
    "print(sets)"
   ]
  },
  {
   "cell_type": "code",
   "execution_count": 82,
   "id": "332ff8ab",
   "metadata": {},
   "outputs": [
    {
     "name": "stdout",
     "output_type": "stream",
     "text": [
      "['Chima', 'Ebuka', 'Promise', 'Hassan', 'Bisi']\n"
     ]
    }
   ],
   "source": [
    "## 10.\n",
    "\n",
    "#list4 = [\"Chima\", \"Ebuka\", \"Rose\", \"Hassan\", \"Bisi\"]\n",
    "\n",
    "#Write a code that removes any of these names and replaces it with your name in that particular index\n",
    "\n",
    "list4 = [\"Chima\", \"Ebuka\", \"Rose\", \"Hassan\", \"Bisi\"]\n",
    "list4[2] = \"Promise\"\n",
    "print(list4)"
   ]
  },
  {
   "cell_type": "code",
   "execution_count": 1,
   "id": "5b50482e",
   "metadata": {},
   "outputs": [
    {
     "name": "stdout",
     "output_type": "stream",
     "text": [
      "[2]\n"
     ]
    }
   ],
   "source": [
    "## 11. \n",
    "\n",
    "#list4 = [\"Chima\", \"Ebuka\", \"Rose\", \"Hassan\", \"Bisi\"]\n",
    "\n",
    "#Write a code that prints out the index positon of the name \"Rose\"\n",
    "\n",
    "list4 = (\"Chima\", \"Ebuka\", \"Rose\", \"Hassan\", \"Bisi\")\n",
    "list4 = [2]\n",
    "print(list4)"
   ]
  },
  {
   "cell_type": "code",
   "execution_count": 83,
   "id": "e3a2e852",
   "metadata": {},
   "outputs": [
    {
     "name": "stdout",
     "output_type": "stream",
     "text": [
      "[10, 20, 30, 40, 50, 30, 40, 50, 60, 70]\n"
     ]
    }
   ],
   "source": [
    "## 14.\n",
    "\n",
    "#- set1 = {10, 20, 30, 40, 50}\n",
    "#- set2 = {30, 40, 50, 60, 70}\n",
    "\n",
    "#Write a code prints out a new set with all items from both sets by removing duplicates\n",
    "\n",
    "set1 = [10, 20, 30, 40, 50]\n",
    "set2 = [30, 40, 50, 60, 70]\n",
    "set1.extend(set2)\n",
    "print(set1)\n",
    "\n"
   ]
  },
  {
   "cell_type": "code",
   "execution_count": 130,
   "id": "c83985c2",
   "metadata": {},
   "outputs": [
    {
     "name": "stdout",
     "output_type": "stream",
     "text": [
      "['This', 'python', 'class', 'is', 'very', 'tricky.', 'There', 'is', 'a', 'joy', 'that', 'comes', 'with', 'getting', 'the', 'right', 'answers.']\n"
     ]
    }
   ],
   "source": [
    "## 15.\n",
    "\n",
    "#- Create a string that is a long series of words separated by spaces. \n",
    "#It can be names, cities, animals, anything. Just make it up yourself.\n",
    "#- Turn the string into a list of words using split. \n",
    "#- Delete two words from the list, but delete each one using a different kind of Python method. \n",
    "#- Sort the list. \n",
    "#- Add two new words to the list using two different kinds of Python operation used in adding items to a list. \n",
    "#- Turn the list of words back into a single string using join. \n",
    "#- Print the string.\n",
    "\n",
    "string1 = \"This python class is very tricky. There is a joy that comes with getting the right answers.\"\n",
    "x = string1.split()\n",
    "print(x)"
   ]
  },
  {
   "cell_type": "code",
   "execution_count": 139,
   "id": "7d280ff3",
   "metadata": {},
   "outputs": [
    {
     "name": "stdout",
     "output_type": "stream",
     "text": [
      "['This', 'python', 'class', 'is', 'tricky.', 'There', 'is', 'a', 'joy', 'that', 'comes', 'with', 'answer']\n"
     ]
    }
   ],
   "source": [
    "#remove(): A list method to remove an item with using letters\n",
    "\n",
    "list_a = ['This', 'python', 'class', 'is', 'very', 'tricky.', 'There', 'is', 'a', 'joy', 'that', 'comes', 'with', 'answer'] \n",
    "\n",
    "list_a.remove('very')\n",
    "print(list_a)"
   ]
  },
  {
   "cell_type": "code",
   "execution_count": 142,
   "id": "b01ac8ee",
   "metadata": {},
   "outputs": [
    {
     "name": "stdout",
     "output_type": "stream",
     "text": [
      "['This', 'python', 'is', 'very', 'tricky.', 'There', 'is', 'a', 'joy', 'that', 'comes', 'with', 'answer']\n"
     ]
    }
   ],
   "source": [
    "#pop(): A list method to remove an item with with numbers\n",
    "\n",
    "list_a = ['This', 'python', 'class', 'is', 'very', 'tricky.', 'There', 'is', 'a', 'joy', 'that', 'comes', 'with', 'answer']\n",
    "list_a.pop(2)\n",
    "print(list_a)"
   ]
  },
  {
   "cell_type": "code",
   "execution_count": null,
   "id": "13126eaf",
   "metadata": {},
   "outputs": [],
   "source": [
    "list_a = ['This', 'python', 'is', 'very', 'tricky.', 'There', 'is', 'a', 'joy', 'that', 'comes', 'with', 'answer']\n",
    "list_a"
   ]
  },
  {
   "cell_type": "code",
   "execution_count": 143,
   "id": "a011da3c",
   "metadata": {},
   "outputs": [
    {
     "name": "stdout",
     "output_type": "stream",
     "text": [
      "['There', 'This', 'a', 'answer', 'comes', 'is', 'is', 'joy', 'python', 'that', 'tricky.', 'very', 'with']\n"
     ]
    }
   ],
   "source": [
    "list_a.sort()\n",
    "print(list_a)\n"
   ]
  },
  {
   "cell_type": "code",
   "execution_count": 146,
   "id": "df4c1991",
   "metadata": {},
   "outputs": [
    {
     "data": {
      "text/plain": [
       "['There',\n",
       " 'This',\n",
       " 'a',\n",
       " 'answer',\n",
       " 'comes',\n",
       " 'is',\n",
       " 'is',\n",
       " 'joy',\n",
       " 'excitment',\n",
       " 'excitement',\n",
       " 'python',\n",
       " 'that',\n",
       " 'tricky.',\n",
       " 'very',\n",
       " 'with']"
      ]
     },
     "execution_count": 146,
     "metadata": {},
     "output_type": "execute_result"
    }
   ],
   "source": [
    "#insert(To add): is a list method that positional - dependent on position, and also flexible.It requires only two arguments -\n",
    "                 #the position, and new item. \n",
    "         \n",
    "list_a.insert(-5, \"excitement\")\n",
    "list_a"
   ]
  },
  {
   "cell_type": "code",
   "execution_count": 147,
   "id": "ea8d1766",
   "metadata": {},
   "outputs": [
    {
     "data": {
      "text/plain": [
       "['There',\n",
       " 'This',\n",
       " 'a',\n",
       " 'answer',\n",
       " 'comes',\n",
       " 'is',\n",
       " 'is',\n",
       " 'joy',\n",
       " 'excitment',\n",
       " 'excitement',\n",
       " 'python',\n",
       " 'that',\n",
       " 'tricky.',\n",
       " 'very',\n",
       " 'with',\n",
       " 'triumph']"
      ]
     },
     "execution_count": 147,
     "metadata": {},
     "output_type": "execute_result"
    }
   ],
   "source": [
    "#apppend(To add): ls a list method that adds new item(s) specific at the end of the list. it is not flexible. \n",
    "                  #only one argument is permitted or allowed.\n",
    "                \n",
    "list_a.append('triumph')\n",
    "list_a"
   ]
  },
  {
   "cell_type": "code",
   "execution_count": 148,
   "id": "e758eb05",
   "metadata": {},
   "outputs": [
    {
     "name": "stdout",
     "output_type": "stream",
     "text": [
      "There#This#a#answer#comes#is#is#joy#excitment#excitement#python#that#tricky.#very#with#triumph\n"
     ]
    }
   ],
   "source": [
    "x = \"#\".join(list_a)\n",
    "print(x)"
   ]
  },
  {
   "cell_type": "code",
   "execution_count": null,
   "id": "4c9f1602",
   "metadata": {},
   "outputs": [],
   "source": []
  }
 ],
 "metadata": {
  "kernelspec": {
   "display_name": "Python 3",
   "language": "python",
   "name": "python3"
  },
  "language_info": {
   "codemirror_mode": {
    "name": "ipython",
    "version": 3
   },
   "file_extension": ".py",
   "mimetype": "text/x-python",
   "name": "python",
   "nbconvert_exporter": "python",
   "pygments_lexer": "ipython3",
   "version": "3.8.8"
  }
 },
 "nbformat": 4,
 "nbformat_minor": 5
}
